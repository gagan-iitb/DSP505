{
  "nbformat": 4,
  "nbformat_minor": 0,
  "metadata": {
    "colab": {
      "provenance": [],
      "include_colab_link": true
    },
    "kernelspec": {
      "name": "python3",
      "display_name": "Python 3"
    },
    "language_info": {
      "name": "python"
    }
  },
  "cells": [
    {
      "cell_type": "markdown",
      "metadata": {
        "id": "view-in-github",
        "colab_type": "text"
      },
      "source": [
        "<a href=\"https://colab.research.google.com/github/gagan-iitb/DSP505/blob/main/Lab2_Pandas_Practice.ipynb\" target=\"_parent\"><img src=\"https://colab.research.google.com/assets/colab-badge.svg\" alt=\"Open In Colab\"/></a>"
      ]
    },
    {
      "cell_type": "markdown",
      "source": [
        "**1.\tHow would you create a pandas Series from different data structures like lists, numpy arrays, and dictionaries?**"
      ],
      "metadata": {
        "id": "VuOPgpMZD2zl"
      }
    },
    {
      "cell_type": "markdown",
      "source": [
        "**From a List:**"
      ],
      "metadata": {
        "id": "x1-L9Ou0EDbK"
      }
    },
    {
      "cell_type": "code",
      "execution_count": null,
      "metadata": {
        "colab": {
          "base_uri": "https://localhost:8080/"
        },
        "id": "-eK9RT2vDNta",
        "outputId": "0f4199d9-8513-4e9e-e088-62d912a36153"
      },
      "outputs": [
        {
          "output_type": "stream",
          "name": "stdout",
          "text": [
            "0     5\n",
            "1    10\n",
            "2    15\n",
            "3    20\n",
            "dtype: int64\n"
          ]
        }
      ],
      "source": [
        "import pandas as pd\n",
        "# List example\n",
        "list_data = [5, 10, 15, 20]\n",
        "series_list = pd.Series(list_data)\n",
        "print(series_list)\n"
      ]
    },
    {
      "cell_type": "markdown",
      "source": [
        "**From a Numpy Array:**"
      ],
      "metadata": {
        "id": "ntJ_P37wEO04"
      }
    },
    {
      "cell_type": "code",
      "source": [
        "import numpy as np\n",
        "import pandas as pd\n",
        "# Numpy array example\n",
        "array_data = np.array([5, 10, 15, 20])\n",
        "series_array = pd.Series(array_data)\n",
        "print(series_array)\n"
      ],
      "metadata": {
        "colab": {
          "base_uri": "https://localhost:8080/"
        },
        "id": "zKmxILpsEGQQ",
        "outputId": "7cdca01e-c5d0-4757-8327-d6877791396e"
      },
      "execution_count": null,
      "outputs": [
        {
          "output_type": "stream",
          "name": "stdout",
          "text": [
            "0     5\n",
            "1    10\n",
            "2    15\n",
            "3    20\n",
            "dtype: int64\n"
          ]
        }
      ]
    },
    {
      "cell_type": "markdown",
      "source": [
        "**Dictionary to Series**"
      ],
      "metadata": {
        "id": "dWD2r_ozEU6R"
      }
    },
    {
      "cell_type": "code",
      "source": [
        "import pandas as pd\n",
        "# Dictionary example\n",
        "dict_data = {'key1': 5, 'key2': 10, 'key3': 15, 'key4': 20}\n",
        "series_dict = pd.Series(dict_data)\n",
        "print(series_dict)\n"
      ],
      "metadata": {
        "colab": {
          "base_uri": "https://localhost:8080/"
        },
        "id": "lVZZe5w8ESWF",
        "outputId": "f67e56dc-1b90-498f-9672-3160df9af0c0"
      },
      "execution_count": null,
      "outputs": [
        {
          "output_type": "stream",
          "name": "stdout",
          "text": [
            "key1     5\n",
            "key2    10\n",
            "key3    15\n",
            "key4    20\n",
            "dtype: int64\n"
          ]
        }
      ]
    },
    {
      "cell_type": "markdown",
      "source": [
        "**From Tuple to Series**"
      ],
      "metadata": {
        "id": "zLJtQY8LEbST"
      }
    },
    {
      "cell_type": "code",
      "source": [
        "import pandas as pd\n",
        "# Creating a Series from a tuple with custom index labels\n",
        "data_tuple = (100, 200, 300, 400)\n",
        "index_labels = ['a', 'b', 'c', 'd']\n",
        "series_from_tuple = pd.Series(data_tuple, index=index_labels)\n",
        "print(series_from_tuple)\n"
      ],
      "metadata": {
        "colab": {
          "base_uri": "https://localhost:8080/"
        },
        "id": "O-ShbQVLEYkT",
        "outputId": "b091274a-e580-4042-e6c5-db6096501f59"
      },
      "execution_count": null,
      "outputs": [
        {
          "output_type": "stream",
          "name": "stdout",
          "text": [
            "a    100\n",
            "b    200\n",
            "c    300\n",
            "d    400\n",
            "dtype: int64\n"
          ]
        }
      ]
    },
    {
      "cell_type": "markdown",
      "source": [
        "**2.\tHow to Create a single Data Frame and combine Multiple Series?**"
      ],
      "metadata": {
        "id": "OZEuQ87tEhvv"
      }
    },
    {
      "cell_type": "markdown",
      "source": [
        "To create a single DataFrame by combining multiple Series in pandas, pd.concat() function or the pd.DataFrame() constructor can be used. Here are two methods to achieve this:\n",
        "\n",
        "**Method 1: Using pd.concat(**)\n"
      ],
      "metadata": {
        "id": "LDeXbGTqErFy"
      }
    },
    {
      "cell_type": "code",
      "source": [
        "# Sample Series\n",
        "series1 = pd.Series([1, 2, 3], name='A')\n",
        "series2 = pd.Series([4, 5, 6], name='B')\n",
        "series3 = pd.Series([7, 8, 9], name='C')\n",
        "# Combine Series into a DataFrame\n",
        "df = pd.concat([series1, series2, series3], axis=1)\n",
        "print(df)\n"
      ],
      "metadata": {
        "colab": {
          "base_uri": "https://localhost:8080/"
        },
        "id": "UruaMkwmEfGU",
        "outputId": "05cc635d-79eb-43d4-c235-2911aa576422"
      },
      "execution_count": null,
      "outputs": [
        {
          "output_type": "stream",
          "name": "stdout",
          "text": [
            "   A  B  C\n",
            "0  1  4  7\n",
            "1  2  5  8\n",
            "2  3  6  9\n"
          ]
        }
      ]
    },
    {
      "cell_type": "markdown",
      "source": [
        "**Method 2: Using pd.DataFrame()**"
      ],
      "metadata": {
        "id": "N60vLy3_E-Kv"
      }
    },
    {
      "cell_type": "code",
      "source": [
        "\n",
        "#DataFrame can be created directly from a dictionary of Series. Here's how:\n",
        "import pandas as pd\n",
        "\n",
        "# Sample Series\n",
        "series1 = pd.Series([1, 2, 3], name='A')\n",
        "series2 = pd.Series([4, 5, 6], name='B')\n",
        "series3 = pd.Series([7, 8, 9], name='C')\n",
        "\n",
        "# Combine Series into a DataFrame\n",
        "df = pd.DataFrame({'A': series1, 'B': series2, 'C': series3})\n",
        "\n",
        "print(df)\n",
        "\n"
      ],
      "metadata": {
        "colab": {
          "base_uri": "https://localhost:8080/"
        },
        "id": "FdCZ08YHE1UE",
        "outputId": "a3571d58-738c-4f21-90b4-5a350a0661aa"
      },
      "execution_count": null,
      "outputs": [
        {
          "output_type": "stream",
          "name": "stdout",
          "text": [
            "   A  B  C\n",
            "0  1  4  7\n",
            "1  2  5  8\n",
            "2  3  6  9\n"
          ]
        }
      ]
    },
    {
      "cell_type": "markdown",
      "source": [
        "**3. How to get the items of series A not present in series B and C python code**"
      ],
      "metadata": {
        "id": "toLH4GVnF8vf"
      }
    },
    {
      "cell_type": "code",
      "source": [
        "import pandas as pd\n",
        "\n",
        "# Input Series\n",
        "ser1 = pd.Series([1, 2, 3, 4, 5, 11, 34])\n",
        "ser2 = pd.Series([4, 5, 6, 7, 8])\n",
        "ser3 = pd.Series([1, 3, 9, 10])\n",
        "\n",
        "# Items in ser1 not in ser2 and not in ser3\n",
        "a_not_bc = ser1[~ser1.isin(ser2) & ~ser1.isin(ser3)]\n",
        "print(\"Items in ser1 not in ser2 and ser3:\", a_not_bc.tolist())\n"
      ],
      "metadata": {
        "colab": {
          "base_uri": "https://localhost:8080/"
        },
        "id": "OuvwdKUlGE2T",
        "outputId": "5298002e-6a9c-493c-80e4-7f6c9f34cf79"
      },
      "execution_count": null,
      "outputs": [
        {
          "output_type": "stream",
          "name": "stdout",
          "text": [
            "Items in ser1 not in ser2 and ser3: [2, 11, 34]\n"
          ]
        }
      ]
    },
    {
      "cell_type": "markdown",
      "source": [
        "**4. Program to sort elements by Values**"
      ],
      "metadata": {
        "id": "-rWCIw8bs7iM"
      }
    },
    {
      "cell_type": "code",
      "source": [
        " #Sample DataFrame\n",
        "\n",
        "data = {'Name': ['Alice', 'Bob', 'Charlie'],\n",
        "\n",
        "        'Age': [35, 30, 35],\n",
        "\n",
        "        'Salary': [70000, 80000, 90000]}\n",
        "\n",
        "df = pd.DataFrame(data)\n",
        "\n",
        "# Sorting by 'Age'\n",
        "\n",
        "sorted_df = df.sort_values(by='Name')\n",
        "\n",
        "print(sorted_df)"
      ],
      "metadata": {
        "colab": {
          "base_uri": "https://localhost:8080/"
        },
        "id": "f-3sxk52Hq2s",
        "outputId": "0b850032-41c3-4a22-c8e5-0fe183208f24"
      },
      "execution_count": null,
      "outputs": [
        {
          "output_type": "stream",
          "name": "stdout",
          "text": [
            "      Name  Age  Salary\n",
            "0    Alice   35   70000\n",
            "1      Bob   30   80000\n",
            "2  Charlie   35   90000\n"
          ]
        }
      ]
    },
    {
      "cell_type": "markdown",
      "source": [
        "**5. Program to use groupby to group data and perform aggregation operations like sum, mean, or count**"
      ],
      "metadata": {
        "id": "xZRQVzA4tu3t"
      }
    },
    {
      "cell_type": "code",
      "source": [
        "# Sample DataFrame\n",
        "\n",
        "data = {'Department': ['HR', 'Finance', 'HR', 'Finance', 'HR'],\n",
        "\n",
        "        'Employee': ['Alice', 'Bob', 'Charlie', 'David', 'Edward'],\n",
        "\n",
        "        'Salary': [50000, 60000, 70000, 80000, 90000]}\n",
        "\n",
        "df = pd.DataFrame(data)\n",
        "\n",
        "# Grouping by 'Department' and summing the 'Salary'\n",
        "\n",
        "grouped = df.groupby('Department')['Salary'].sum()\n",
        "\n",
        "print(grouped)"
      ],
      "metadata": {
        "colab": {
          "base_uri": "https://localhost:8080/"
        },
        "id": "CTHtO88wsiGH",
        "outputId": "bee84f3a-c13e-4cc2-9e19-4375f2bf0bff"
      },
      "execution_count": null,
      "outputs": [
        {
          "output_type": "stream",
          "name": "stdout",
          "text": [
            "Department\n",
            "Finance    140000\n",
            "HR         210000\n",
            "Name: Salary, dtype: int64\n"
          ]
        }
      ]
    },
    {
      "cell_type": "markdown",
      "source": [
        "**6. How to filter words that contain atleast 3 vowels from a series?**"
      ],
      "metadata": {
        "id": "mmIEssIJuH4A"
      }
    },
    {
      "cell_type": "code",
      "source": [
        "ser = pd.Series(['Apple', 'Orange', 'Plane', 'Python', 'Money' , 'Amrendra' , 'Banana'])\n",
        "vowels = list(\"aeiou\")\n",
        "list_ = []\n",
        "for w in ser:\n",
        "    c = 0\n",
        "    for l in list(w.lower()):\n",
        "        if l in vowels:\n",
        "            c += 1\n",
        "    if c >= 2:\n",
        "        print(w)\n",
        "        list_.append(w)\n",
        "\n",
        "ser[ser.isin(list_)]\n",
        "\n",
        "# another solution using counter\n",
        "\n",
        "from collections import Counter\n",
        "mask = ser.map(lambda x: sum([Counter(x.lower()).get(i, 0) for i in list('aeiou')]) >= 3)\n",
        "ser[mask]\n"
      ],
      "metadata": {
        "colab": {
          "base_uri": "https://localhost:8080/",
          "height": 282
        },
        "id": "9hgIsSCFtM0D",
        "outputId": "72443f19-6bac-4599-a7cb-b80ee1f216ff"
      },
      "execution_count": null,
      "outputs": [
        {
          "output_type": "stream",
          "name": "stdout",
          "text": [
            "Apple\n",
            "Orange\n",
            "Plane\n",
            "Money\n",
            "Amrendra\n",
            "Banana\n"
          ]
        },
        {
          "output_type": "execute_result",
          "data": {
            "text/plain": [
              "1      Orange\n",
              "5    Amrendra\n",
              "6      Banana\n",
              "dtype: object"
            ],
            "text/html": [
              "<div>\n",
              "<style scoped>\n",
              "    .dataframe tbody tr th:only-of-type {\n",
              "        vertical-align: middle;\n",
              "    }\n",
              "\n",
              "    .dataframe tbody tr th {\n",
              "        vertical-align: top;\n",
              "    }\n",
              "\n",
              "    .dataframe thead th {\n",
              "        text-align: right;\n",
              "    }\n",
              "</style>\n",
              "<table border=\"1\" class=\"dataframe\">\n",
              "  <thead>\n",
              "    <tr style=\"text-align: right;\">\n",
              "      <th></th>\n",
              "      <th>0</th>\n",
              "    </tr>\n",
              "  </thead>\n",
              "  <tbody>\n",
              "    <tr>\n",
              "      <th>1</th>\n",
              "      <td>Orange</td>\n",
              "    </tr>\n",
              "    <tr>\n",
              "      <th>5</th>\n",
              "      <td>Amrendra</td>\n",
              "    </tr>\n",
              "    <tr>\n",
              "      <th>6</th>\n",
              "      <td>Banana</td>\n",
              "    </tr>\n",
              "  </tbody>\n",
              "</table>\n",
              "</div><br><label><b>dtype:</b> object</label>"
            ]
          },
          "metadata": {},
          "execution_count": 22
        }
      ]
    },
    {
      "cell_type": "markdown",
      "source": [
        "**7. Program to Concatenate Dataframes**"
      ],
      "metadata": {
        "id": "1IAOfY5yvLnK"
      }
    },
    {
      "cell_type": "code",
      "source": [
        "# Sample DataFrames\n",
        "\n",
        "df1 = pd.DataFrame({'A': [1, 2, 3], 'B': [4, 5, 6]})\n",
        "\n",
        "df2 = pd.DataFrame({'A': [7, 8, 9], 'B': [10, 11, 12]})\n",
        "\n",
        "# Concatenating along rows\n",
        "\n",
        "concat_df = pd.concat([df1, df2])\n",
        "\n",
        "print(concat_df)\n",
        "\n",
        "\n",
        "# Concatenating along columns\n",
        "\n",
        "concat_df_col = pd.concat([df1, df2], axis=1)\n",
        "\n",
        "print(concat_df_col)"
      ],
      "metadata": {
        "colab": {
          "base_uri": "https://localhost:8080/"
        },
        "id": "PwT1qgLrukt4",
        "outputId": "e97e2648-d364-4d1a-a17e-c39d2eb1e278"
      },
      "execution_count": null,
      "outputs": [
        {
          "output_type": "stream",
          "name": "stdout",
          "text": [
            "   A   B\n",
            "0  1   4\n",
            "1  2   5\n",
            "2  3   6\n",
            "0  7  10\n",
            "1  8  11\n",
            "2  9  12\n",
            "   A  B  A   B\n",
            "0  1  4  7  10\n",
            "1  2  5  8  11\n",
            "2  3  6  9  12\n"
          ]
        }
      ]
    },
    {
      "cell_type": "markdown",
      "source": [
        "**8. Read First 10 rows from dataset and store it in another csv file**\n",
        "dataset: https://www.kaggle.com/datasets/johnsmith88/heart-disease-dataset?select=heart.csv"
      ],
      "metadata": {
        "id": "Qr2Qrlotv51J"
      }
    },
    {
      "cell_type": "code",
      "source": [
        "import pandas as pd\n",
        "\n",
        "# Path to the input CSV file\n",
        "input_file = '/content/heart.csv'\n",
        "\n",
        "# Path to the output CSV file\n",
        "output_file = '/content/output.csv'\n",
        "\n",
        "# Read the first 10 rows from the input CSV file\n",
        "df = pd.read_csv(input_file, nrows=10)\n",
        "\n",
        "# Save the first 10 rows to the output CSV file\n",
        "df.to_csv(output_file, index=False)\n",
        "print(df)\n",
        "print(f\"First 10 rows saved to {output_file}\")\n"
      ],
      "metadata": {
        "colab": {
          "base_uri": "https://localhost:8080/"
        },
        "id": "vUX1FZi3vQ4Q",
        "outputId": "e4eded57-b981-4dc8-965a-ed3dea38ad15"
      },
      "execution_count": null,
      "outputs": [
        {
          "output_type": "stream",
          "name": "stdout",
          "text": [
            "   age  sex  cp  trestbps  chol  fbs  restecg  thalach  exang  oldpeak  slope  \\\n",
            "0   63    1   3       145   233    1        0      150      0      2.3      0   \n",
            "1   37    1   2       130   250    0        1      187      0      3.5      0   \n",
            "2   41    0   1       130   204    0        0      172      0      1.4      2   \n",
            "3   56    1   1       120   236    0        1      178      0      0.8      2   \n",
            "4   57    0   0       120   354    0        1      163      1      0.6      2   \n",
            "5   57    1   0       140   192    0        1      148      0      0.4      1   \n",
            "6   56    0   1       140   294    0        0      153      0      1.3      1   \n",
            "7   44    1   1       120   263    0        1      173      0      0.0      2   \n",
            "8   52    1   2       172   199    1        1      162      0      0.5      2   \n",
            "9   57    1   2       150   168    0        1      174      0      1.6      2   \n",
            "\n",
            "   ca  thal  target  \n",
            "0   0     1       1  \n",
            "1   0     2       1  \n",
            "2   0     2       1  \n",
            "3   0     2       1  \n",
            "4   0     2       1  \n",
            "5   0     1       1  \n",
            "6   0     2       1  \n",
            "7   0     3       1  \n",
            "8   0     3       1  \n",
            "9   0     2       1  \n",
            "First 10 rows saved to /content/output.csv\n"
          ]
        }
      ]
    },
    {
      "cell_type": "markdown",
      "source": [
        "**9. Count No of Rows and Check Null from CSV file.**"
      ],
      "metadata": {
        "id": "ENOa8EW4xisB"
      }
    },
    {
      "cell_type": "code",
      "source": [
        "import pandas as pd\n",
        "\n",
        "# Read the CSV file\n",
        "file_path = '/content/heart.csv'\n",
        "df = pd.read_csv(file_path, low_memory=False)\n",
        "\n",
        "# Print the number of rows\n",
        "num_rows = len(df)\n",
        "print(df[df['age']==1].count)\n",
        "print(df.isnull().sum())\n",
        "\n",
        "print(f'The number of rows in the CSV file is: {num_rows}')"
      ],
      "metadata": {
        "colab": {
          "base_uri": "https://localhost:8080/"
        },
        "id": "2bQZ-3lAwbz7",
        "outputId": "17b47e01-65ef-4929-d91e-ab22a43e6c9c"
      },
      "execution_count": null,
      "outputs": [
        {
          "output_type": "stream",
          "name": "stdout",
          "text": [
            "<bound method DataFrame.count of Empty DataFrame\n",
            "Columns: [age, sex, cp, trestbps, chol, fbs, restecg, thalach, exang, oldpeak, slope, ca, thal, target]\n",
            "Index: []>\n",
            "age         0\n",
            "sex         0\n",
            "cp          0\n",
            "trestbps    0\n",
            "chol        0\n",
            "fbs         0\n",
            "restecg     0\n",
            "thalach     0\n",
            "exang       0\n",
            "oldpeak     0\n",
            "slope       0\n",
            "ca          0\n",
            "thal        0\n",
            "target      0\n",
            "dtype: int64\n",
            "The number of rows in the CSV file is: 303\n"
          ]
        }
      ]
    },
    {
      "cell_type": "markdown",
      "source": [
        "**10. Program to Data Visualization With Pandas**"
      ],
      "metadata": {
        "id": "JjnXgHJgyYa3"
      }
    },
    {
      "cell_type": "code",
      "source": [
        "import matplotlib.pyplot as plt\n",
        "\n",
        "# Sample DataFrame\n",
        "\n",
        "data = {'Year': [2017, 2018, 2019, 2020, 2021],\n",
        "\n",
        "        'Sales': [250, 300, 400, 350, 500]}\n",
        "\n",
        "df = pd.DataFrame(data)\n",
        "\n",
        "# Plotting a line graph\n",
        "\n",
        "df.plot(x='Year', y='Sales', kind='line')\n",
        "\n",
        "plt.xlabel('Year')\n",
        "\n",
        "plt.ylabel('Sales')\n",
        "\n",
        "plt.title('Yearly Sales')\n",
        "\n",
        "plt.show()"
      ],
      "metadata": {
        "colab": {
          "base_uri": "https://localhost:8080/",
          "height": 472
        },
        "id": "oAgkNG5Dx1l0",
        "outputId": "54f099eb-8009-4f25-8ba2-be569cffc7fc"
      },
      "execution_count": null,
      "outputs": [
        {
          "output_type": "display_data",
          "data": {
            "text/plain": [
              "<Figure size 640x480 with 1 Axes>"
            ],
            "image/png": "[encoded data removed]"
          },
          "metadata": {}
        }
      ]
    },
    {
      "cell_type": "markdown",
      "source": [
        "**11. Check Duplicate values in dataset**"
      ],
      "metadata": {
        "id": "hWV7l8Mly2N5"
      }
    },
    {
      "cell_type": "code",
      "source": [
        "#Check Duplicate data\n",
        "import pandas as pd\n",
        "\n",
        "# Load the data (assuming it's stored in a CSV file named 'serial.csv')\n",
        "data = pd.read_csv('/content/heart.csv')\n",
        "\n",
        "# Find duplicate values in the 'UniqueNumbers' column\n",
        "duplicates = data[data.duplicated(subset='age', keep=False)]\n",
        "\n",
        "# Print all duplicate values\n",
        "if not duplicates.empty:\n",
        "    print(\"Duplicate values found:\")\n",
        "    print(duplicates)\n",
        "else:\n",
        "    print(\"No duplicate values found.\")"
      ],
      "metadata": {
        "colab": {
          "base_uri": "https://localhost:8080/"
        },
        "id": "kOez_48vyTi1",
        "outputId": "58eff454-2a56-482f-9e36-08d06ea648c9"
      },
      "execution_count": null,
      "outputs": [
        {
          "output_type": "stream",
          "name": "stdout",
          "text": [
            "Duplicate values found:\n",
            "     age  sex  cp  trestbps  chol  fbs  restecg  thalach  exang  oldpeak  \\\n",
            "0     63    1   3       145   233    1        0      150      0      2.3   \n",
            "1     37    1   2       130   250    0        1      187      0      3.5   \n",
            "2     41    0   1       130   204    0        0      172      0      1.4   \n",
            "3     56    1   1       120   236    0        1      178      0      0.8   \n",
            "4     57    0   0       120   354    0        1      163      1      0.6   \n",
            "..   ...  ...  ..       ...   ...  ...      ...      ...    ...      ...   \n",
            "298   57    0   0       140   241    0        1      123      1      0.2   \n",
            "299   45    1   3       110   264    0        1      132      0      1.2   \n",
            "300   68    1   0       144   193    1        1      141      0      3.4   \n",
            "301   57    1   0       130   131    0        1      115      1      1.2   \n",
            "302   57    0   1       130   236    0        0      174      0      0.0   \n",
            "\n",
            "     slope  ca  thal  target  \n",
            "0        0   0     1       1  \n",
            "1        0   0     2       1  \n",
            "2        2   0     2       1  \n",
            "3        2   0     2       1  \n",
            "4        2   0     2       1  \n",
            "..     ...  ..   ...     ...  \n",
            "298      1   0     3       0  \n",
            "299      1   0     3       0  \n",
            "300      1   2     3       0  \n",
            "301      1   1     3       0  \n",
            "302      1   1     2       0  \n",
            "\n",
            "[299 rows x 14 columns]\n"
          ]
        }
      ]
    },
    {
      "cell_type": "markdown",
      "source": [
        "**Questions:**\n",
        "1. Print out all the version information of the libraries that are required by the pandas library.\n",
        "2. Create an Empty DataFrame.\n",
        "3. Create a DataFrame df from this dictionary data which has the index labels and Display a summary of the basic information about this DataFrame and its data.\n",
        "4. Return the first 5 rows of the DataFrame df.\n",
        "5. Explain Pandas DataFrame Using Python List.\n",
        "6. How we can set an existing column as the index.\n",
        "7. How we can rename an index using the rename() method.\n",
        "8. You have a 2D NumPy array that you have converted into a pandas DataFrame. You want to assign specific index values to the rows of this DataFrame. If you pass a list of index values to the DataFrame, how does it affect the DataFrame, and how would you apply these index values?\n",
        "9. You have a dictionary of data that you want to store as a pandas Series. After creating the Series and storing it in the df variable, you print it and observe that the data is represented in a one-dimensional linear format. Explain how to create this Series from the dictionary and describe the output you would expect when printing the Series.\n",
        "10. You create a dictionary and store it as a DataFrame in the df variable. After printing, the data appears as 2-dimensional rows and columns. How would you create this DataFrame from the dictionary, and what does the output look like?"
      ],
      "metadata": {
        "id": "EGhmSCua3Zo_"
      }
    },
    {
      "cell_type": "code",
      "source": [],
      "metadata": {
        "id": "QtcBcfLAzcTu"
      },
      "execution_count": null,
      "outputs": []
    }
  ]
}