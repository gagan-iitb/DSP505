{
  "nbformat": 4,
  "nbformat_minor": 0,
  "metadata": {
    "colab": {
      "provenance": [],
      "gpuType": "T4",
      "include_colab_link": true
    },
    "kernelspec": {
      "name": "python3",
      "display_name": "Python 3"
    },
    "language_info": {
      "name": "python"
    },
    "accelerator": "GPU"
  },
  "cells": [
    {
      "cell_type": "markdown",
      "metadata": {
        "id": "view-in-github",
        "colab_type": "text"
      },
      "source": [
        "<a href=\"https://colab.research.google.com/github/gagan-iitb/DSP505/blob/main/Numpy_Tutorial.ipynb\" target=\"_parent\"><img src=\"https://colab.research.google.com/assets/colab-badge.svg\" alt=\"Open In Colab\"/></a>"
      ]
    },
    {
      "cell_type": "code",
      "source": [
        "import numpy as np"
      ],
      "metadata": {
        "id": "1K8A8FBkoA6P"
      },
      "execution_count": null,
      "outputs": []
    },
    {
      "cell_type": "markdown",
      "source": [
        "Given 2 numpy arrays as matrices, output the result of multiplying the 2 matrices (as a numpy array)"
      ],
      "metadata": {
        "id": "cdy3M0Pjof7E"
      }
    },
    {
      "cell_type": "code",
      "execution_count": null,
      "metadata": {
        "colab": {
          "base_uri": "https://localhost:8080/"
        },
        "id": "S3Slc96Snf9G",
        "outputId": "4d451d26-d1e8-4f61-8ca5-74c6dd1c405b"
      },
      "outputs": [
        {
          "output_type": "stream",
          "name": "stdout",
          "text": [
            "[[ 36  42  48]\n",
            " [ 81  96 111]\n",
            " [126 150 174]]\n"
          ]
        }
      ],
      "source": [
        "a = np.array([[1,2,3],\n",
        "              [4,5,6],\n",
        "              [7,8,9]])\n",
        "\n",
        "b = np.array([[2,3,4],\n",
        "              [5,6,7],\n",
        "              [8,9,10]])\n",
        "\n",
        "o = np.matmul(a, b)\n",
        "\n",
        "print(o)"
      ]
    },
    {
      "cell_type": "markdown",
      "source": [
        "Output the transpose of a matrix (as numpy array)"
      ],
      "metadata": {
        "id": "2A3oNuLGsnOw"
      }
    },
    {
      "cell_type": "code",
      "source": [
        "a = np.array([[1,2,3],\n",
        "              [4,5,6],\n",
        "              [7,8,9]])\n",
        "\n",
        "a_transpose = a.T\n",
        "\n",
        "print(a_transpose)"
      ],
      "metadata": {
        "colab": {
          "base_uri": "https://localhost:8080/"
        },
        "id": "UG9gJMBAsrAS",
        "outputId": "a21208fd-7870-49e6-e8a5-44b13d580b16"
      },
      "execution_count": null,
      "outputs": [
        {
          "output_type": "stream",
          "name": "stdout",
          "text": [
            "[[1 4 7]\n",
            " [2 5 8]\n",
            " [3 6 9]]\n"
          ]
        }
      ]
    },
    {
      "cell_type": "markdown",
      "source": [
        "Considering two arrays with shape (1,3) and (3,1), how to compute their sum using an iterator?"
      ],
      "metadata": {
        "id": "7Pp177M8qqGk"
      }
    },
    {
      "cell_type": "code",
      "source": [
        "\n",
        "\n",
        "# Initialize the arrays\n",
        "array1 = np.array([[1, 2, 3]])  # Shape (1, 3)\n",
        "array2 = np.array([[4], [5], [6]])  # Shape (3, 1)\n",
        "\n",
        "# Use numpy's broadcasting feature to ensure the shapes match\n",
        "# Sum using an iterator\n",
        "result = np.zeros((3, 3))  # Initialize the result array with shape (3, 3)\n",
        "\n",
        "for i in range(array1.shape[1]):\n",
        "    for j in range(array2.shape[0]):\n",
        "        result[j, i] = array1[0, i] + array2[j, 0]\n",
        "print(\"Result:\\n\", result)"
      ],
      "metadata": {
        "colab": {
          "base_uri": "https://localhost:8080/"
        },
        "id": "pzYjIgRyn66l",
        "outputId": "8b8775b2-0c5d-451b-e68c-2abea76cb248"
      },
      "execution_count": null,
      "outputs": [
        {
          "output_type": "stream",
          "name": "stdout",
          "text": [
            "Result:\n",
            " [[5. 6. 7.]\n",
            " [6. 7. 8.]\n",
            " [7. 8. 9.]]\n"
          ]
        }
      ]
    },
    {
      "cell_type": "code",
      "source": [
        "#Alternate solution using numpy nditer\n",
        "\n",
        "# Initialize the arrays\n",
        "A = np.array([[1, 2, 3]])\n",
        "B = np.array([[4], [5], [6]])\n",
        "\n",
        "# Create an nditer object for the arrays A and B, and an uninitialized output array\n",
        "it = np.nditer([A, B, None])\n",
        "\n",
        "# Iterate over the arrays element-wise and store the result in the third operand (output array)\n",
        "for x, y, z in it:\n",
        "    z[...] = x + y\n",
        "\n",
        "# Print the output array (third operand in the nditer object)\n",
        "print(it.operands[2])"
      ],
      "metadata": {
        "colab": {
          "base_uri": "https://localhost:8080/"
        },
        "id": "v99xSTzrruMY",
        "outputId": "ed9687fa-b95f-41aa-869b-a3a2d3d6b6b0"
      },
      "execution_count": null,
      "outputs": [
        {
          "output_type": "stream",
          "name": "stdout",
          "text": [
            "[[5 6 7]\n",
            " [6 7 8]\n",
            " [7 8 9]]\n"
          ]
        }
      ]
    },
    {
      "cell_type": "markdown",
      "source": [
        "Create a 5x5 matrix with values 1,2,3,4 just below the diagonal"
      ],
      "metadata": {
        "id": "PwiDkzEts22y"
      }
    },
    {
      "cell_type": "code",
      "source": [
        "Z = np.diag(1+np.arange(4),k=-1)\n",
        "print(Z)"
      ],
      "metadata": {
        "id": "JjAVrB9ksBZJ",
        "colab": {
          "base_uri": "https://localhost:8080/"
        },
        "outputId": "927183e2-a799-4a19-f3ba-5489883caf65"
      },
      "execution_count": null,
      "outputs": [
        {
          "output_type": "stream",
          "name": "stdout",
          "text": [
            "[[0 0 0 0 0]\n",
            " [1 0 0 0 0]\n",
            " [0 2 0 0 0]\n",
            " [0 0 3 0 0]\n",
            " [0 0 0 4 0]]\n"
          ]
        }
      ]
    },
    {
      "cell_type": "markdown",
      "source": [
        "Numpy program to convert a given list into an array, then again convert it into a list. Check initial list and final list a"
      ],
      "metadata": {
        "id": "GtM6fl9eijid"
      }
    },
    {
      "cell_type": "code",
      "source": [
        "a = [[1, 2], [3, 4]]\n",
        "\n",
        "# Converting the nested list 'a' into a NumPy array 'x' using np.array()\n",
        "x = np.array(a)\n",
        "\n",
        "# Converting the NumPy array 'x' back to a Python nested list 'a2' using the tolist() method\n",
        "a2 = x.tolist()\n",
        "print(a == a2)"
      ],
      "metadata": {
        "colab": {
          "base_uri": "https://localhost:8080/"
        },
        "id": "gRS1G04ih_BA",
        "outputId": "3c917557-bee8-4fbb-98c8-9899b9aec599"
      },
      "execution_count": null,
      "outputs": [
        {
          "output_type": "stream",
          "name": "stdout",
          "text": [
            "True\n"
          ]
        }
      ]
    },
    {
      "cell_type": "markdown",
      "source": [
        "Numpy program to create a 10x10 matrix, in which the elements on the borders will be equal to 1, and inside 0."
      ],
      "metadata": {
        "id": "LUKbrHLpjBP5"
      }
    },
    {
      "cell_type": "code",
      "source": [
        "# Creating a 10x10 matrix filled with ones using np.ones()\n",
        "x = np.ones((10, 10))\n",
        "\n",
        "# Setting the inner values of the matrix 'x' (excluding the borders) to 0 using slicing\n",
        "x[1:-1, 1:-1] = 0\n",
        "\n",
        "# Printing the modified matrix 'x'\n",
        "print(x)"
      ],
      "metadata": {
        "colab": {
          "base_uri": "https://localhost:8080/"
        },
        "id": "htjbMkPmitD1",
        "outputId": "6949c212-3627-4a66-a738-a13c1b47d139"
      },
      "execution_count": null,
      "outputs": [
        {
          "output_type": "stream",
          "name": "stdout",
          "text": [
            "[[1. 1. 1. 1. 1. 1. 1. 1. 1. 1.]\n",
            " [1. 0. 0. 0. 0. 0. 0. 0. 0. 1.]\n",
            " [1. 0. 0. 0. 0. 0. 0. 0. 0. 1.]\n",
            " [1. 0. 0. 0. 0. 0. 0. 0. 0. 1.]\n",
            " [1. 0. 0. 0. 0. 0. 0. 0. 0. 1.]\n",
            " [1. 0. 0. 0. 0. 0. 0. 0. 0. 1.]\n",
            " [1. 0. 0. 0. 0. 0. 0. 0. 0. 1.]\n",
            " [1. 0. 0. 0. 0. 0. 0. 0. 0. 1.]\n",
            " [1. 0. 0. 0. 0. 0. 0. 0. 0. 1.]\n",
            " [1. 1. 1. 1. 1. 1. 1. 1. 1. 1.]]\n"
          ]
        }
      ]
    },
    {
      "cell_type": "markdown",
      "source": [
        "Given a 2D NumPy array A of shape (3, 3), rotate the matrix 90 degree clockwise"
      ],
      "metadata": {
        "id": "unb8e0uijJQM"
      }
    },
    {
      "cell_type": "code",
      "source": [
        "A = np.array([[1, 2, 3],\n",
        "              [4, 5, 6],\n",
        "              [7, 8, 9]])\n",
        "\n",
        "print(np.rot90(A, -1))"
      ],
      "metadata": {
        "colab": {
          "base_uri": "https://localhost:8080/"
        },
        "id": "wGit8UCXjIIQ",
        "outputId": "7f3d7913-e1f4-4936-e4e6-ff5b407b9e72"
      },
      "execution_count": null,
      "outputs": [
        {
          "output_type": "stream",
          "name": "stdout",
          "text": [
            "[[7 4 1]\n",
            " [8 5 2]\n",
            " [9 6 3]]\n"
          ]
        }
      ]
    },
    {
      "cell_type": "markdown",
      "source": [
        "Given a 2D NumPy array A of shape (3,3),print the sum of all the elements on both the main diagonal and the anti-diagonal.\n",
        "\n"
      ],
      "metadata": {
        "id": "veIfXzVpkH74"
      }
    },
    {
      "cell_type": "code",
      "source": [
        "A = np.array([[1, 2, 3],\n",
        "              [4, 5, 6],\n",
        "              [7, 8, 9]])\n",
        "main_diag_sum = np.trace(A)\n",
        "anti_diag_sum = np.trace(np.fliplr(A))\n",
        "print(main_diag_sum + anti_diag_sum)"
      ],
      "metadata": {
        "colab": {
          "base_uri": "https://localhost:8080/"
        },
        "id": "8rvWsktlj_fI",
        "outputId": "7593b7f3-e58d-4304-f5a3-c0cd8069e99c"
      },
      "execution_count": null,
      "outputs": [
        {
          "output_type": "stream",
          "name": "stdout",
          "text": [
            "30\n"
          ]
        }
      ]
    },
    {
      "cell_type": "markdown",
      "source": [
        "Given a 2D NumPy array A, extract all unique elements from the array, counts the occurrences of each unique element, and print a 2D array where each row consists of a unique element and its corresponding count, sorted by the unique element in ascending order.\n",
        "\n"
      ],
      "metadata": {
        "id": "t-xD61iBldHM"
      }
    },
    {
      "cell_type": "code",
      "source": [
        "A = np.array([[3, 5, 2, 3],\n",
        "              [7, 3, 5, 2],\n",
        "              [9, 2, 5, 7]])\n",
        "unique, counts = np.unique(A, return_counts=True)\n",
        "result = np.column_stack((unique, counts))\n",
        "print(result)"
      ],
      "metadata": {
        "colab": {
          "base_uri": "https://localhost:8080/"
        },
        "id": "Eb9pk4e2kxUp",
        "outputId": "8db60d1f-65a7-4d52-f57c-8654a68adbf9"
      },
      "execution_count": null,
      "outputs": [
        {
          "output_type": "stream",
          "name": "stdout",
          "text": [
            "[[2 3]\n",
            " [3 3]\n",
            " [5 3]\n",
            " [7 2]\n",
            " [9 1]]\n"
          ]
        }
      ]
    },
    {
      "cell_type": "markdown",
      "source": [
        "Given a 4X4 array, swap rows and columns of a given array in reverse order.\n"
      ],
      "metadata": {
        "id": "femWERdwl5mF"
      }
    },
    {
      "cell_type": "code",
      "source": [
        "nums = np.array([[[1, 2, 3, 4],\n",
        "               [0, 1, 3, 4],\n",
        "               [90, 91, 93, 94],\n",
        "               [5, 0, 3, 2]]])\n",
        "\n",
        "# Reversing both rows and columns using [::-1, ::-1]\n",
        "new_nums = nums[::-1, ::-1]\n",
        "\n",
        "# Printing the new array after swapping rows and columns in reverse order\n",
        "print(\"\\nSwap rows and columns of the said array in reverse order:\")\n",
        "print(new_nums)"
      ],
      "metadata": {
        "colab": {
          "base_uri": "https://localhost:8080/"
        },
        "id": "SnviIOkElpwS",
        "outputId": "b5ed4dfe-3dea-40c3-bdf9-49f3a1e22f02"
      },
      "execution_count": null,
      "outputs": [
        {
          "output_type": "stream",
          "name": "stdout",
          "text": [
            "\n",
            "Swap rows and columns of the said array in reverse order:\n",
            "[[[ 5  0  3  2]\n",
            "  [90 91 93 94]\n",
            "  [ 0  1  3  4]\n",
            "  [ 1  2  3  4]]]\n"
          ]
        }
      ]
    },
    {
      "cell_type": "markdown",
      "source": [
        "**`Exercises`**"
      ],
      "metadata": {
        "id": "2tB9htlxmZ07"
      }
    },
    {
      "cell_type": "markdown",
      "source": [
        "Q1. Given a  NumPy array A of shape (3, 3), normalize each row so that the sum of elements in each row equals 1.\n"
      ],
      "metadata": {
        "id": "wrMcLdu1mi4e"
      }
    },
    {
      "cell_type": "code",
      "source": [
        "#write your code here"
      ],
      "metadata": {
        "id": "izdqb6_AmRvb"
      },
      "execution_count": null,
      "outputs": []
    },
    {
      "cell_type": "markdown",
      "source": [
        "Q2. Given a 2D NumPy array A,remove any row in the array that contains a NaN value."
      ],
      "metadata": {
        "id": "6IAoaQBanAUf"
      }
    },
    {
      "cell_type": "code",
      "source": [
        "#write your code here"
      ],
      "metadata": {
        "id": "y_7FKWt7nMuL"
      },
      "execution_count": null,
      "outputs": []
    },
    {
      "cell_type": "markdown",
      "source": [
        "Q3. Given a 2D NumPy array A,print a 1D array containing the indices of the maximum value in each row."
      ],
      "metadata": {
        "id": "DZ2c0xCbnVSK"
      }
    },
    {
      "cell_type": "code",
      "source": [
        "#write your code here"
      ],
      "metadata": {
        "id": "DFMdmF7Qn1A7"
      },
      "execution_count": null,
      "outputs": []
    },
    {
      "cell_type": "markdown",
      "source": [
        "Q4.Given two arrays,calculate the covariance matrix of the given two arrays"
      ],
      "metadata": {
        "id": "GgM5zJ3gn4CA"
      }
    },
    {
      "cell_type": "code",
      "source": [
        "#write your code here"
      ],
      "metadata": {
        "id": "3IzhbeNzpRiK"
      },
      "execution_count": null,
      "outputs": []
    },
    {
      "cell_type": "markdown",
      "source": [
        "Q5.Given a 1D NumPy array A and an integer k,computes the moving average of the array with a window size k"
      ],
      "metadata": {
        "id": "ht_AlPmvp8db"
      }
    },
    {
      "cell_type": "code",
      "source": [
        "#write your code here"
      ],
      "metadata": {
        "id": "XFGxNPmfcLw3"
      },
      "execution_count": null,
      "outputs": []
    },
    {
      "cell_type": "markdown",
      "source": [
        "Q6.How is arr[:,0] different from arr[:,[0]].Show it with the help of example"
      ],
      "metadata": {
        "id": "0qfJnf_QcO5y"
      }
    },
    {
      "cell_type": "code",
      "source": [
        "#write your code here"
      ],
      "metadata": {
        "id": "uLow3B7vciSj"
      },
      "execution_count": null,
      "outputs": []
    },
    {
      "cell_type": "markdown",
      "source": [
        "Q7.Given a 2D NumPy array A of shape (m, n), create a function transform_matrix(A) that performs the following operations:\n",
        "\n",
        "For each element in the array, if the element is in the even row index (0, 2, 4,...), square the element.\n",
        "For each element in the odd row index (1, 3, 5,...), multiply the element by 3 and add 1.\n",
        "After modifying the elements based on the above rules, normalize the entire matrix so that the maximum value in the matrix becomes 1 and the minimum value becomes 0"
      ],
      "metadata": {
        "id": "TpFVKaIncl5j"
      }
    },
    {
      "cell_type": "code",
      "source": [
        "#write your code here"
      ],
      "metadata": {
        "id": "QTWuMztXdDAq"
      },
      "execution_count": null,
      "outputs": []
    },
    {
      "cell_type": "markdown",
      "source": [
        "Q8.Given two 2D NumPy arrays A of shape (m, n) and B of shape (p, n), write a function  that performs a custom matrix multiplication where each element (i, j) of the resulting matrix C is the sum of element-wise products between the ith row of A and the jth row of B, but only for the first k elements of each row, where k = min(m, n, p)."
      ],
      "metadata": {
        "id": "WivxJrkBdJzF"
      }
    },
    {
      "cell_type": "code",
      "source": [
        "#write your code here"
      ],
      "metadata": {
        "id": "EZS9vnV0dn-X"
      },
      "execution_count": null,
      "outputs": []
    },
    {
      "cell_type": "markdown",
      "source": [
        "Q9.Show the difference between **ndarray** and **array** in numpy with the help of example"
      ],
      "metadata": {
        "id": "aLBESnI5dq0b"
      }
    },
    {
      "cell_type": "code",
      "source": [
        "#write your code here"
      ],
      "metadata": {
        "id": "1M55D_dJennM"
      },
      "execution_count": null,
      "outputs": []
    },
    {
      "cell_type": "markdown",
      "source": [
        "Q10.Write a code to convert an image to numpy array and save it to csv file using python"
      ],
      "metadata": {
        "id": "8E1JaFA_erRN"
      }
    },
    {
      "cell_type": "code",
      "source": [
        "#write your code here"
      ],
      "metadata": {
        "id": "cCrvcxM5fNCy"
      },
      "execution_count": null,
      "outputs": []
    }
  ]
}